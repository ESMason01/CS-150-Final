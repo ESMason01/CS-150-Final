{
 "cells": [
  {
   "cell_type": "code",
   "execution_count": 4,
   "id": "a15a8166",
   "metadata": {},
   "outputs": [
    {
     "name": "stdout",
     "output_type": "stream",
     "text": [
      "Enter your keyword for your password (enter 'done' to stop): Amazon\n",
      "Enter the desired length of the password: 8\n",
      "Password generated and saved in dictionary.\n",
      "Enter your keyword for your password (enter 'done' to stop): Google\n",
      "Enter the desired length of the password: 10\n",
      "Password generated and saved in dictionary.\n",
      "Enter your keyword for your password (enter 'done' to stop): Bing\n",
      "Enter the desired length of the password: 5\n",
      "Password generated and saved in dictionary.\n",
      "Enter your keyword for your password (enter 'done' to stop): done\n",
      "Generated passwords: {'Amazon<->8': '$URRG4PL', 'Google<->1': 'Nx@iDTb&xG', 'Bing<->3': 'QAd3b'}\n"
     ]
    }
   ],
   "source": [
    "import random\n",
    "\n",
    "class PasswordGenerator:\n",
    "    def __init__(self):\n",
    "        self.poss_characters = \"!@#$%^&*abcdefghijklmnopqrstuvwxyzABCDEFGHIJKLMNOPQRSTUVWXYZ0123456789\"\n",
    "        self.pass_dict ={}\n",
    "\n",
    "    def generate_password(self,length): #method initiallize generation of a random password.\n",
    "        password = ''.join(random.choice(self.poss_characters) for i in range(length))\n",
    "        return password\n",
    "\n",
    "    def create_password(self, keyword, password_length): # Method to create a random password based on a user inputed keyword.\n",
    "        password=self.generate_password(password_length)\n",
    "        key=keyword+'<->'+str(random.randint(1,10))\n",
    "        self.pass_dict[key]=password\n",
    "\n",
    "    def get_passwords(self): #Method to return the dictionary of given keywords & generated passwords.\n",
    "        return self.pass_dict\n",
    "\n",
    "    def run(self): #Method to continually generate passwords based on user input through a while loop.\n",
    "        while True:\n",
    "            keyword = input(\"Enter your keyword for your password (enter 'done' to stop): \")\n",
    "            if keyword=='done':\n",
    "                break\n",
    "            password_length = int(input(\"Enter the desired length of the password: \"))\n",
    "            self.create_password(keyword,password_length)\n",
    "            print(\"Password generated and saved in dictionary.\")\n",
    "\n",
    "\n",
    "PG=PasswordGenerator()\n",
    "PG.run()\n",
    "pass_dict = PG.get_passwords()\n",
    "print(\"Generated passwords:\",pass_dict)"
   ]
  },
  {
   "cell_type": "code",
   "execution_count": 5,
   "id": "7f8d9530",
   "metadata": {},
   "outputs": [
    {
     "name": "stdout",
     "output_type": "stream",
     "text": [
      "Generated passwords: {'Amazon<->8': '$URRG4PL', 'Google<->1': 'Nx@iDTb&xG', 'Bing<->3': 'QAd3b'}\n"
     ]
    }
   ],
   "source": [
    "print(\"Generated passwords:\",pass_dict)"
   ]
  },
  {
   "cell_type": "code",
   "execution_count": null,
   "id": "de0a8ef4",
   "metadata": {},
   "outputs": [],
   "source": []
  }
 ],
 "metadata": {
  "kernelspec": {
   "display_name": "Python 3 (ipykernel)",
   "language": "python",
   "name": "python3"
  },
  "language_info": {
   "codemirror_mode": {
    "name": "ipython",
    "version": 3
   },
   "file_extension": ".py",
   "mimetype": "text/x-python",
   "name": "python",
   "nbconvert_exporter": "python",
   "pygments_lexer": "ipython3",
   "version": "3.9.13"
  }
 },
 "nbformat": 4,
 "nbformat_minor": 5
}
